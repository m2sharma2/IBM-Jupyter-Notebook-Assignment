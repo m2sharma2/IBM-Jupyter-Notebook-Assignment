{
 "cells": [
  {
   "cell_type": "markdown",
   "id": "57dc2871-1f66-42bf-a59b-c31af0a71012",
   "metadata": {},
   "source": [
    "# Data Science Tools and Ecosystem"
   ]
  },
  {
   "cell_type": "markdown",
   "id": "b8bbc580-294e-453f-a6b7-98924027f1e6",
   "metadata": {},
   "source": [
    "In this notebook, Data Science Tools and Ecosystem are summarized."
   ]
  },
  {
   "cell_type": "markdown",
   "id": "914edf8d-eef0-46d3-8bbd-41cbada9cf39",
   "metadata": {},
   "source": [
    "**Objectives:**\n",
    "\n",
    "- Users to create and share documents containing live code, equations narrative text.\n",
    "\n",
    "- Will be writing the code in Python but can also use R, and Julia which makes Jupyter Notebook a versatile tool for data analysis, scientific computing, and machine learning.\n",
    "- Get to know about two types of cells: code cells and markdown cells. Code cells allow you to write and execute code, while markdown cells allow you to write narrative text and format it using markdown syntax."
   ]
  },
  {
   "cell_type": "markdown",
   "id": "9fc9cc4e-36ce-4597-8f73-c07bcea34d75",
   "metadata": {},
   "source": [
    "Some of the popular programming languages that Data Scientists use are:\n",
    "1. Python\n",
    "2. R\n",
    "3. SQL\n",
    "\n",
    "Python is commonly used for data cleaning, preprocessing, and machine learning tasks, while R is popular for statistical analysis and visualization. SQL is often used for data querying and management tasks in relational databases. Additionally, other programming languages such as Julia and Scala are gaining popularity among data scientists."
   ]
  },
  {
   "cell_type": "markdown",
   "id": "48cae13f-f435-4305-bf10-b87479f0038b",
   "metadata": {},
   "source": [
    "Some of the commonly used libraries used by Data Scientists in Python include:\n",
    "\n",
    "1. NumPy: for scientific computing and numerical operations.\n",
    "2. Pandas: for data manipulation and analysis.\n",
    "3. Matplotlib: for data visualization.\n",
    "4. Scikit-learn: for machine learning tasks such as classification, regression, and clustering.\n",
    "5. TensorFlow and PyTorch: for deep learning tasks such as neural networks."
   ]
  },
  {
   "cell_type": "markdown",
   "id": "7e2b2070-79df-49e1-8e6b-124abab1d700",
   "metadata": {},
   "source": [
    "| Data Science Tools |\n",
    "| ------------------- |\n",
    "| Jupyter Notebook |\n",
    "| Spyder |\n",
    "| RStudio |"
   ]
  },
  {
   "cell_type": "markdown",
   "id": "096f7050-590f-4a1d-815e-244cf05e507c",
   "metadata": {},
   "source": [
    "### Below are a few examples of evaluating arithmetic expressions in Python."
   ]
  },
  {
   "cell_type": "markdown",
   "id": "6bf66a59-915d-49ec-8e44-2e0a9105e647",
   "metadata": {},
   "source": [
    "This a simple arithmetic expression to mutiply then add integers."
   ]
  },
  {
   "cell_type": "code",
   "execution_count": 1,
   "id": "d3d7c62c-fcfb-4562-a95f-d1de29eedd36",
   "metadata": {},
   "outputs": [
    {
     "data": {
      "text/plain": [
       "17"
      ]
     },
     "execution_count": 1,
     "metadata": {},
     "output_type": "execute_result"
    }
   ],
   "source": [
    "(3*4)+5"
   ]
  },
  {
   "cell_type": "markdown",
   "id": "23f65a8e-9fed-498f-a43a-697ccce24920",
   "metadata": {},
   "source": [
    "This will convert 200 minutes to hours by diving by 60."
   ]
  },
  {
   "cell_type": "code",
   "execution_count": 2,
   "id": "1dc623e1-fff4-4b0c-8ecd-e7c93cb060cb",
   "metadata": {},
   "outputs": [
    {
     "data": {
      "text/plain": [
       "3.3333333333333335"
      ]
     },
     "execution_count": 2,
     "metadata": {},
     "output_type": "execute_result"
    }
   ],
   "source": [
    "(200/60)"
   ]
  },
  {
   "cell_type": "markdown",
   "id": "7b979d38-bb2e-42de-83f4-adca0aba50df",
   "metadata": {},
   "source": [
    "## Author\n",
    "Mohit Sharma"
   ]
  }
 ],
 "metadata": {
  "kernelspec": {
   "display_name": "Python",
   "language": "python",
   "name": "conda-env-python-py"
  },
  "language_info": {
   "codemirror_mode": {
    "name": "ipython",
    "version": 3
   },
   "file_extension": ".py",
   "mimetype": "text/x-python",
   "name": "python",
   "nbconvert_exporter": "python",
   "pygments_lexer": "ipython3",
   "version": "3.7.12"
  }
 },
 "nbformat": 4,
 "nbformat_minor": 5
}
